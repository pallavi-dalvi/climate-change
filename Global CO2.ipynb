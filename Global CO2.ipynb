{
 "cells": [
  {
   "cell_type": "code",
   "execution_count": 27,
   "metadata": {},
   "outputs": [],
   "source": [
    "import numpy as np\n",
    "import pandas as pd\n",
    "import matplotlib.pyplot as plt\n",
    "import seaborn as sns\n",
    "\n",
    "# This magic line will allow you to generate plots\n",
    "# within the Jupyter notebook.\n",
    "%matplotlib inline\n",
    "\n",
    "#this adds some extra styling to the graphs we will make\n",
    "sns.set_style(\"whitegrid\")"
   ]
  },
  {
   "cell_type": "code",
   "execution_count": 28,
   "metadata": {},
   "outputs": [],
   "source": [
    "df=pd.read_csv(\"GlobelCo2Data 2013.csv\")"
   ]
  },
  {
   "cell_type": "code",
   "execution_count": 29,
   "metadata": {},
   "outputs": [
    {
     "data": {
      "text/plain": [
       "(263, 8)"
      ]
     },
     "execution_count": 29,
     "metadata": {},
     "output_type": "execute_result"
    }
   ],
   "source": [
    "df.shape"
   ]
  },
  {
   "cell_type": "code",
   "execution_count": 30,
   "metadata": {},
   "outputs": [
    {
     "data": {
      "text/plain": [
       "Index(['Year',\n",
       "       'Total carbon emissions from fossil fuel consumption and cement production (million metric tons of C)',\n",
       "       'Carbon emissions from gas fuel consumption',\n",
       "       'Carbon emissions from liquid fuel consumption',\n",
       "       'Carbon emissions from solid fuel consumption',\n",
       "       'Carbon emissions from cement production',\n",
       "       'Carbon emissions from gas flaring',\n",
       "       'Per capita carbon emissions (metric tons of carbon; after 1949 only)'],\n",
       "      dtype='object')"
      ]
     },
     "execution_count": 30,
     "metadata": {},
     "output_type": "execute_result"
    }
   ],
   "source": [
    "df.columns"
   ]
  },
  {
   "cell_type": "code",
   "execution_count": 31,
   "metadata": {},
   "outputs": [],
   "source": [
    "df.columns=['year','Total carbon emissions from fossil fuel consumption and cement production (million metric tons of C)',\n",
    "       'Carbon emissions from gas fuel consumption',\n",
    "       'Carbon emissions from liquid fuel consumption',\n",
    "       'Carbon emissions from solid fuel consumption',\n",
    "       'Carbon emissions from cement production',\n",
    "       'Carbon emissions from gas flaring',\n",
    "       'Per capita carbon emissions (metric tons of carbon; after 1949 only)']"
   ]
  },
  {
   "cell_type": "code",
   "execution_count": 32,
   "metadata": {},
   "outputs": [
    {
     "data": {
      "text/plain": [
       "year                                                                                                      0\n",
       "Total carbon emissions from fossil fuel consumption and cement production (million metric tons of C)      0\n",
       "Carbon emissions from gas fuel consumption                                                                0\n",
       "Carbon emissions from liquid fuel consumption                                                             0\n",
       "Carbon emissions from solid fuel consumption                                                              0\n",
       "Carbon emissions from cement production                                                                   0\n",
       "Carbon emissions from gas flaring                                                                         0\n",
       "Per capita carbon emissions (metric tons of carbon; after 1949 only)                                    199\n",
       "dtype: int64"
      ]
     },
     "execution_count": 32,
     "metadata": {},
     "output_type": "execute_result"
    }
   ],
   "source": [
    "df.isna().sum()"
   ]
  },
  {
   "cell_type": "code",
   "execution_count": 33,
   "metadata": {},
   "outputs": [],
   "source": [
    "df.columns=['year','Total carbon emissions(million metric tons)',\n",
    "       'Carbon emissions from gas fuel consumption',\n",
    "       'Carbon emissions from liquid fuel consumption',\n",
    "       'Carbon emissions from solid fuel consumption',\n",
    "       'Carbon emissions from cement production',\n",
    "       'Carbon emissions from gas flaring',\n",
    "       'Per capita carbon emissions (metric tons of carbon; after 1949 only)']"
   ]
  },
  {
   "cell_type": "code",
   "execution_count": 34,
   "metadata": {},
   "outputs": [
    {
     "data": {
      "text/plain": [
       "(263, 8)"
      ]
     },
     "execution_count": 34,
     "metadata": {},
     "output_type": "execute_result"
    }
   ],
   "source": [
    "df.shape"
   ]
  },
  {
   "cell_type": "code",
   "execution_count": 35,
   "metadata": {},
   "outputs": [],
   "source": [
    "del df['Per capita carbon emissions (metric tons of carbon; after 1949 only)']"
   ]
  },
  {
   "cell_type": "code",
   "execution_count": 42,
   "metadata": {},
   "outputs": [
    {
     "data": {
      "text/html": [
       "<div>\n",
       "<style scoped>\n",
       "    .dataframe tbody tr th:only-of-type {\n",
       "        vertical-align: middle;\n",
       "    }\n",
       "\n",
       "    .dataframe tbody tr th {\n",
       "        vertical-align: top;\n",
       "    }\n",
       "\n",
       "    .dataframe thead th {\n",
       "        text-align: right;\n",
       "    }\n",
       "</style>\n",
       "<table border=\"1\" class=\"dataframe\">\n",
       "  <thead>\n",
       "    <tr style=\"text-align: right;\">\n",
       "      <th></th>\n",
       "      <th>year</th>\n",
       "      <th>Total carbon emissions(million metric tons)</th>\n",
       "      <th>Carbon emissions from gas fuel consumption</th>\n",
       "      <th>Carbon emissions from liquid fuel consumption</th>\n",
       "      <th>Carbon emissions from solid fuel consumption</th>\n",
       "      <th>Carbon emissions from cement production</th>\n",
       "      <th>Carbon emissions from gas flaring</th>\n",
       "    </tr>\n",
       "  </thead>\n",
       "  <tbody>\n",
       "    <tr>\n",
       "      <th>150</th>\n",
       "      <td>1901</td>\n",
       "      <td>552</td>\n",
       "      <td>4</td>\n",
       "      <td>18</td>\n",
       "      <td>531</td>\n",
       "      <td>0</td>\n",
       "      <td>0</td>\n",
       "    </tr>\n",
       "    <tr>\n",
       "      <th>151</th>\n",
       "      <td>1902</td>\n",
       "      <td>566</td>\n",
       "      <td>4</td>\n",
       "      <td>19</td>\n",
       "      <td>543</td>\n",
       "      <td>0</td>\n",
       "      <td>0</td>\n",
       "    </tr>\n",
       "    <tr>\n",
       "      <th>152</th>\n",
       "      <td>1903</td>\n",
       "      <td>617</td>\n",
       "      <td>4</td>\n",
       "      <td>20</td>\n",
       "      <td>593</td>\n",
       "      <td>0</td>\n",
       "      <td>0</td>\n",
       "    </tr>\n",
       "    <tr>\n",
       "      <th>153</th>\n",
       "      <td>1904</td>\n",
       "      <td>624</td>\n",
       "      <td>4</td>\n",
       "      <td>23</td>\n",
       "      <td>597</td>\n",
       "      <td>0</td>\n",
       "      <td>0</td>\n",
       "    </tr>\n",
       "    <tr>\n",
       "      <th>154</th>\n",
       "      <td>1905</td>\n",
       "      <td>663</td>\n",
       "      <td>5</td>\n",
       "      <td>23</td>\n",
       "      <td>636</td>\n",
       "      <td>0</td>\n",
       "      <td>0</td>\n",
       "    </tr>\n",
       "  </tbody>\n",
       "</table>\n",
       "</div>"
      ],
      "text/plain": [
       "     year  Total carbon emissions(million metric tons)  \\\n",
       "150  1901                                          552   \n",
       "151  1902                                          566   \n",
       "152  1903                                          617   \n",
       "153  1904                                          624   \n",
       "154  1905                                          663   \n",
       "\n",
       "     Carbon emissions from gas fuel consumption  \\\n",
       "150                                           4   \n",
       "151                                           4   \n",
       "152                                           4   \n",
       "153                                           4   \n",
       "154                                           5   \n",
       "\n",
       "     Carbon emissions from liquid fuel consumption  \\\n",
       "150                                             18   \n",
       "151                                             19   \n",
       "152                                             20   \n",
       "153                                             23   \n",
       "154                                             23   \n",
       "\n",
       "     Carbon emissions from solid fuel consumption  \\\n",
       "150                                           531   \n",
       "151                                           543   \n",
       "152                                           593   \n",
       "153                                           597   \n",
       "154                                           636   \n",
       "\n",
       "     Carbon emissions from cement production  \\\n",
       "150                                        0   \n",
       "151                                        0   \n",
       "152                                        0   \n",
       "153                                        0   \n",
       "154                                        0   \n",
       "\n",
       "     Carbon emissions from gas flaring  \n",
       "150                                  0  \n",
       "151                                  0  \n",
       "152                                  0  \n",
       "153                                  0  \n",
       "154                                  0  "
      ]
     },
     "execution_count": 42,
     "metadata": {},
     "output_type": "execute_result"
    }
   ],
   "source": [
    "df.head()"
   ]
  },
  {
   "cell_type": "code",
   "execution_count": 41,
   "metadata": {},
   "outputs": [],
   "source": [
    "df.drop(df[df['year']<1901].index, inplace=True)"
   ]
  },
  {
   "cell_type": "code",
   "execution_count": 45,
   "metadata": {},
   "outputs": [],
   "source": [
    "df.to_csv(\"Cleaned Global Co2.csv\",sep=',',index=False)"
   ]
  },
  {
   "cell_type": "code",
   "execution_count": null,
   "metadata": {},
   "outputs": [],
   "source": []
  }
 ],
 "metadata": {
  "kernelspec": {
   "display_name": "Python 3",
   "language": "python",
   "name": "python3"
  },
  "language_info": {
   "codemirror_mode": {
    "name": "ipython",
    "version": 3
   },
   "file_extension": ".py",
   "mimetype": "text/x-python",
   "name": "python",
   "nbconvert_exporter": "python",
   "pygments_lexer": "ipython3",
   "version": "3.8.5"
  }
 },
 "nbformat": 4,
 "nbformat_minor": 4
}
