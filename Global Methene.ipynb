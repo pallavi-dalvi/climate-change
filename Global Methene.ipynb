{
 "cells": [
  {
   "cell_type": "code",
   "execution_count": 3,
   "metadata": {},
   "outputs": [],
   "source": [
    "import numpy as np\n",
    "import pandas as pd\n",
    "import matplotlib.pyplot as plt\n",
    "import seaborn as sns\n",
    "\n",
    "# This magic line will allow you to generate plots\n",
    "# within the Jupyter notebook.\n",
    "%matplotlib inline\n",
    "\n",
    "#this adds some extra styling to the graphs we will make\n",
    "sns.set_style(\"whitegrid\")"
   ]
  },
  {
   "cell_type": "code",
   "execution_count": 5,
   "metadata": {},
   "outputs": [],
   "source": [
    "df=pd.read_csv(\"GlobalMethaneData 1983 to 2020 .csv\")"
   ]
  },
  {
   "cell_type": "code",
   "execution_count": 6,
   "metadata": {},
   "outputs": [
    {
     "data": {
      "text/plain": [
       "year                   0\n",
       "month                  0\n",
       "decimal                0\n",
       "averageMethane         0\n",
       "average_unc_methane    0\n",
       "trend_methane          0\n",
       "trend_unc_methane      0\n",
       "dtype: int64"
      ]
     },
     "execution_count": 6,
     "metadata": {},
     "output_type": "execute_result"
    }
   ],
   "source": [
    "df.isna().sum()"
   ]
  },
  {
   "cell_type": "code",
   "execution_count": 7,
   "metadata": {},
   "outputs": [],
   "source": [
    "avg_yearly=df[['averageMethane','year']].groupby(['year'],as_index=False).mean()"
   ]
  },
  {
   "cell_type": "code",
   "execution_count": 8,
   "metadata": {},
   "outputs": [],
   "source": [
    "avg_yearly.columns=['year','averageMethanePerYear']"
   ]
  },
  {
   "cell_type": "code",
   "execution_count": 9,
   "metadata": {},
   "outputs": [],
   "source": [
    "df=pd.merge(df,avg_yearly,on='year')"
   ]
  },
  {
   "cell_type": "code",
   "execution_count": 10,
   "metadata": {},
   "outputs": [
    {
     "data": {
      "text/html": [
       "<div>\n",
       "<style scoped>\n",
       "    .dataframe tbody tr th:only-of-type {\n",
       "        vertical-align: middle;\n",
       "    }\n",
       "\n",
       "    .dataframe tbody tr th {\n",
       "        vertical-align: top;\n",
       "    }\n",
       "\n",
       "    .dataframe thead th {\n",
       "        text-align: right;\n",
       "    }\n",
       "</style>\n",
       "<table border=\"1\" class=\"dataframe\">\n",
       "  <thead>\n",
       "    <tr style=\"text-align: right;\">\n",
       "      <th></th>\n",
       "      <th>year</th>\n",
       "      <th>month</th>\n",
       "      <th>decimal</th>\n",
       "      <th>averageMethane</th>\n",
       "      <th>average_unc_methane</th>\n",
       "      <th>trend_methane</th>\n",
       "      <th>trend_unc_methane</th>\n",
       "      <th>averageMethanePerYear</th>\n",
       "    </tr>\n",
       "  </thead>\n",
       "  <tbody>\n",
       "    <tr>\n",
       "      <th>0</th>\n",
       "      <td>1983</td>\n",
       "      <td>7</td>\n",
       "      <td>1983.542</td>\n",
       "      <td>1625.9</td>\n",
       "      <td>2.4</td>\n",
       "      <td>1634.6</td>\n",
       "      <td>1.5</td>\n",
       "      <td>1636.50</td>\n",
       "    </tr>\n",
       "    <tr>\n",
       "      <th>1</th>\n",
       "      <td>1983</td>\n",
       "      <td>8</td>\n",
       "      <td>1983.625</td>\n",
       "      <td>1628.0</td>\n",
       "      <td>2.9</td>\n",
       "      <td>1635.3</td>\n",
       "      <td>1.4</td>\n",
       "      <td>1636.50</td>\n",
       "    </tr>\n",
       "    <tr>\n",
       "      <th>2</th>\n",
       "      <td>1983</td>\n",
       "      <td>9</td>\n",
       "      <td>1983.708</td>\n",
       "      <td>1638.4</td>\n",
       "      <td>2.2</td>\n",
       "      <td>1636.0</td>\n",
       "      <td>1.3</td>\n",
       "      <td>1636.50</td>\n",
       "    </tr>\n",
       "    <tr>\n",
       "      <th>3</th>\n",
       "      <td>1983</td>\n",
       "      <td>10</td>\n",
       "      <td>1983.792</td>\n",
       "      <td>1644.8</td>\n",
       "      <td>1.4</td>\n",
       "      <td>1636.7</td>\n",
       "      <td>1.3</td>\n",
       "      <td>1636.50</td>\n",
       "    </tr>\n",
       "    <tr>\n",
       "      <th>4</th>\n",
       "      <td>1983</td>\n",
       "      <td>11</td>\n",
       "      <td>1983.875</td>\n",
       "      <td>1642.5</td>\n",
       "      <td>0.8</td>\n",
       "      <td>1637.5</td>\n",
       "      <td>1.2</td>\n",
       "      <td>1636.50</td>\n",
       "    </tr>\n",
       "    <tr>\n",
       "      <th>...</th>\n",
       "      <td>...</td>\n",
       "      <td>...</td>\n",
       "      <td>...</td>\n",
       "      <td>...</td>\n",
       "      <td>...</td>\n",
       "      <td>...</td>\n",
       "      <td>...</td>\n",
       "      <td>...</td>\n",
       "    </tr>\n",
       "    <tr>\n",
       "      <th>443</th>\n",
       "      <td>2020</td>\n",
       "      <td>6</td>\n",
       "      <td>2020.458</td>\n",
       "      <td>1871.7</td>\n",
       "      <td>-9.9</td>\n",
       "      <td>1879.4</td>\n",
       "      <td>-9.9</td>\n",
       "      <td>1876.77</td>\n",
       "    </tr>\n",
       "    <tr>\n",
       "      <th>444</th>\n",
       "      <td>2020</td>\n",
       "      <td>7</td>\n",
       "      <td>2020.542</td>\n",
       "      <td>1871.5</td>\n",
       "      <td>-9.9</td>\n",
       "      <td>1881.0</td>\n",
       "      <td>-9.9</td>\n",
       "      <td>1876.77</td>\n",
       "    </tr>\n",
       "    <tr>\n",
       "      <th>445</th>\n",
       "      <td>2020</td>\n",
       "      <td>8</td>\n",
       "      <td>2020.625</td>\n",
       "      <td>1876.5</td>\n",
       "      <td>-9.9</td>\n",
       "      <td>1882.7</td>\n",
       "      <td>-9.9</td>\n",
       "      <td>1876.77</td>\n",
       "    </tr>\n",
       "    <tr>\n",
       "      <th>446</th>\n",
       "      <td>2020</td>\n",
       "      <td>9</td>\n",
       "      <td>2020.708</td>\n",
       "      <td>1884.8</td>\n",
       "      <td>-9.9</td>\n",
       "      <td>1884.2</td>\n",
       "      <td>-9.9</td>\n",
       "      <td>1876.77</td>\n",
       "    </tr>\n",
       "    <tr>\n",
       "      <th>447</th>\n",
       "      <td>2020</td>\n",
       "      <td>10</td>\n",
       "      <td>2020.792</td>\n",
       "      <td>1890.9</td>\n",
       "      <td>-9.9</td>\n",
       "      <td>1885.7</td>\n",
       "      <td>-9.9</td>\n",
       "      <td>1876.77</td>\n",
       "    </tr>\n",
       "  </tbody>\n",
       "</table>\n",
       "<p>448 rows × 8 columns</p>\n",
       "</div>"
      ],
      "text/plain": [
       "     year  month   decimal  averageMethane  average_unc_methane  \\\n",
       "0    1983      7  1983.542          1625.9                  2.4   \n",
       "1    1983      8  1983.625          1628.0                  2.9   \n",
       "2    1983      9  1983.708          1638.4                  2.2   \n",
       "3    1983     10  1983.792          1644.8                  1.4   \n",
       "4    1983     11  1983.875          1642.5                  0.8   \n",
       "..    ...    ...       ...             ...                  ...   \n",
       "443  2020      6  2020.458          1871.7                 -9.9   \n",
       "444  2020      7  2020.542          1871.5                 -9.9   \n",
       "445  2020      8  2020.625          1876.5                 -9.9   \n",
       "446  2020      9  2020.708          1884.8                 -9.9   \n",
       "447  2020     10  2020.792          1890.9                 -9.9   \n",
       "\n",
       "     trend_methane  trend_unc_methane  averageMethanePerYear  \n",
       "0           1634.6                1.5                1636.50  \n",
       "1           1635.3                1.4                1636.50  \n",
       "2           1636.0                1.3                1636.50  \n",
       "3           1636.7                1.3                1636.50  \n",
       "4           1637.5                1.2                1636.50  \n",
       "..             ...                ...                    ...  \n",
       "443         1879.4               -9.9                1876.77  \n",
       "444         1881.0               -9.9                1876.77  \n",
       "445         1882.7               -9.9                1876.77  \n",
       "446         1884.2               -9.9                1876.77  \n",
       "447         1885.7               -9.9                1876.77  \n",
       "\n",
       "[448 rows x 8 columns]"
      ]
     },
     "execution_count": 10,
     "metadata": {},
     "output_type": "execute_result"
    }
   ],
   "source": [
    "df"
   ]
  },
  {
   "cell_type": "code",
   "execution_count": 11,
   "metadata": {},
   "outputs": [],
   "source": [
    "avg_yearly.to_csv(\"Cleaned Global Methene.csv\",sep=',',index=False)"
   ]
  },
  {
   "cell_type": "code",
   "execution_count": null,
   "metadata": {},
   "outputs": [],
   "source": []
  }
 ],
 "metadata": {
  "kernelspec": {
   "display_name": "Python 3",
   "language": "python",
   "name": "python3"
  },
  "language_info": {
   "codemirror_mode": {
    "name": "ipython",
    "version": 3
   },
   "file_extension": ".py",
   "mimetype": "text/x-python",
   "name": "python",
   "nbconvert_exporter": "python",
   "pygments_lexer": "ipython3",
   "version": "3.8.5"
  }
 },
 "nbformat": 4,
 "nbformat_minor": 4
}
