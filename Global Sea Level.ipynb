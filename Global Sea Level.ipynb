{
 "cells": [
  {
   "cell_type": "code",
   "execution_count": 27,
   "metadata": {},
   "outputs": [],
   "source": [
    "import numpy as np\n",
    "import pandas as pd\n",
    "import matplotlib.pyplot as plt\n",
    "import seaborn as sns\n",
    "\n",
    "# This magic line will allow you to generate plots\n",
    "# within the Jupyter notebook.\n",
    "%matplotlib inline\n",
    "\n",
    "#this adds some extra styling to the graphs we will make\n",
    "sns.set_style(\"whitegrid\")"
   ]
  },
  {
   "cell_type": "code",
   "execution_count": 28,
   "metadata": {},
   "outputs": [],
   "source": [
    "df=pd.read_csv(\"Global Sea Level till 2014.csv\")"
   ]
  },
  {
   "cell_type": "code",
   "execution_count": 29,
   "metadata": {},
   "outputs": [
    {
     "data": {
      "text/plain": [
       "(135, 5)"
      ]
     },
     "execution_count": 29,
     "metadata": {},
     "output_type": "execute_result"
    }
   ],
   "source": [
    "df.shape"
   ]
  },
  {
   "cell_type": "code",
   "execution_count": 30,
   "metadata": {},
   "outputs": [
    {
     "data": {
      "text/html": [
       "<div>\n",
       "<style scoped>\n",
       "    .dataframe tbody tr th:only-of-type {\n",
       "        vertical-align: middle;\n",
       "    }\n",
       "\n",
       "    .dataframe tbody tr th {\n",
       "        vertical-align: top;\n",
       "    }\n",
       "\n",
       "    .dataframe thead th {\n",
       "        text-align: right;\n",
       "    }\n",
       "</style>\n",
       "<table border=\"1\" class=\"dataframe\">\n",
       "  <thead>\n",
       "    <tr style=\"text-align: right;\">\n",
       "      <th></th>\n",
       "      <th>Year</th>\n",
       "      <th>CSIRO Adjusted Sea Level</th>\n",
       "      <th>Lower Error Bound</th>\n",
       "      <th>Upper Error Bound</th>\n",
       "      <th>NOAA Adjusted Sea Level</th>\n",
       "    </tr>\n",
       "  </thead>\n",
       "  <tbody>\n",
       "    <tr>\n",
       "      <th>0</th>\n",
       "      <td>1880-03-15</td>\n",
       "      <td>0.000000</td>\n",
       "      <td>-0.952756</td>\n",
       "      <td>0.952756</td>\n",
       "      <td>NaN</td>\n",
       "    </tr>\n",
       "    <tr>\n",
       "      <th>1</th>\n",
       "      <td>1881-03-15</td>\n",
       "      <td>0.220472</td>\n",
       "      <td>-0.732283</td>\n",
       "      <td>1.173228</td>\n",
       "      <td>NaN</td>\n",
       "    </tr>\n",
       "    <tr>\n",
       "      <th>2</th>\n",
       "      <td>1882-03-15</td>\n",
       "      <td>-0.440945</td>\n",
       "      <td>-1.346457</td>\n",
       "      <td>0.464567</td>\n",
       "      <td>NaN</td>\n",
       "    </tr>\n",
       "    <tr>\n",
       "      <th>3</th>\n",
       "      <td>1883-03-15</td>\n",
       "      <td>-0.232283</td>\n",
       "      <td>-1.129921</td>\n",
       "      <td>0.665354</td>\n",
       "      <td>NaN</td>\n",
       "    </tr>\n",
       "    <tr>\n",
       "      <th>4</th>\n",
       "      <td>1884-03-15</td>\n",
       "      <td>0.590551</td>\n",
       "      <td>-0.283465</td>\n",
       "      <td>1.464567</td>\n",
       "      <td>NaN</td>\n",
       "    </tr>\n",
       "  </tbody>\n",
       "</table>\n",
       "</div>"
      ],
      "text/plain": [
       "         Year  CSIRO Adjusted Sea Level  Lower Error Bound  Upper Error Bound  \\\n",
       "0  1880-03-15                  0.000000          -0.952756           0.952756   \n",
       "1  1881-03-15                  0.220472          -0.732283           1.173228   \n",
       "2  1882-03-15                 -0.440945          -1.346457           0.464567   \n",
       "3  1883-03-15                 -0.232283          -1.129921           0.665354   \n",
       "4  1884-03-15                  0.590551          -0.283465           1.464567   \n",
       "\n",
       "   NOAA Adjusted Sea Level  \n",
       "0                      NaN  \n",
       "1                      NaN  \n",
       "2                      NaN  \n",
       "3                      NaN  \n",
       "4                      NaN  "
      ]
     },
     "execution_count": 30,
     "metadata": {},
     "output_type": "execute_result"
    }
   ],
   "source": [
    "df.head()"
   ]
  },
  {
   "cell_type": "code",
   "execution_count": 31,
   "metadata": {},
   "outputs": [
    {
     "data": {
      "text/plain": [
       "Index(['Year', 'CSIRO Adjusted Sea Level', 'Lower Error Bound',\n",
       "       'Upper Error Bound', 'NOAA Adjusted Sea Level'],\n",
       "      dtype='object')"
      ]
     },
     "execution_count": 31,
     "metadata": {},
     "output_type": "execute_result"
    }
   ],
   "source": [
    "df.columns"
   ]
  },
  {
   "cell_type": "code",
   "execution_count": 32,
   "metadata": {},
   "outputs": [],
   "source": [
    "df.columns=['dt','CSIRO Adjusted Sea Level', 'Lower Error Bound',\n",
    "       'Upper Error Bound', 'NOAA Adjusted Sea Level']"
   ]
  },
  {
   "cell_type": "code",
   "execution_count": 33,
   "metadata": {},
   "outputs": [
    {
     "data": {
      "text/plain": [
       "dt                            0\n",
       "CSIRO Adjusted Sea Level      1\n",
       "Lower Error Bound             1\n",
       "Upper Error Bound             1\n",
       "NOAA Adjusted Sea Level     113\n",
       "dtype: int64"
      ]
     },
     "execution_count": 33,
     "metadata": {},
     "output_type": "execute_result"
    }
   ],
   "source": [
    "df.isna().sum()"
   ]
  },
  {
   "cell_type": "code",
   "execution_count": 34,
   "metadata": {},
   "outputs": [],
   "source": [
    "del df['NOAA Adjusted Sea Level']"
   ]
  },
  {
   "cell_type": "code",
   "execution_count": 35,
   "metadata": {},
   "outputs": [],
   "source": [
    "df['dt'] = pd.to_datetime(df['dt'])"
   ]
  },
  {
   "cell_type": "code",
   "execution_count": 36,
   "metadata": {},
   "outputs": [],
   "source": [
    "df['year'] = df['dt'].dt.year\n",
    "df['month'] = df['dt'].dt.month\n",
    "df['day'] = df['dt'].dt.day"
   ]
  },
  {
   "cell_type": "code",
   "execution_count": 37,
   "metadata": {},
   "outputs": [
    {
     "data": {
      "text/plain": [
       "0      1880\n",
       "1      1881\n",
       "2      1882\n",
       "3      1883\n",
       "4      1884\n",
       "       ... \n",
       "130    2010\n",
       "131    2011\n",
       "132    2012\n",
       "133    2013\n",
       "134    2014\n",
       "Name: year, Length: 135, dtype: int64"
      ]
     },
     "execution_count": 37,
     "metadata": {},
     "output_type": "execute_result"
    }
   ],
   "source": [
    "df['year']"
   ]
  },
  {
   "cell_type": "code",
   "execution_count": 38,
   "metadata": {},
   "outputs": [],
   "source": [
    "df.drop(df[df['year']<1901].index, inplace=True)"
   ]
  },
  {
   "cell_type": "code",
   "execution_count": 39,
   "metadata": {},
   "outputs": [],
   "source": [
    "del df['dt']"
   ]
  },
  {
   "cell_type": "code",
   "execution_count": 40,
   "metadata": {},
   "outputs": [],
   "source": [
    "del df['month']"
   ]
  },
  {
   "cell_type": "code",
   "execution_count": 41,
   "metadata": {},
   "outputs": [],
   "source": [
    "del df['day']"
   ]
  },
  {
   "cell_type": "code",
   "execution_count": 42,
   "metadata": {},
   "outputs": [],
   "source": [
    "df.to_csv(\"Cleaned Global SeaLevel.csv\",sep=',',index=False)"
   ]
  },
  {
   "cell_type": "code",
   "execution_count": null,
   "metadata": {},
   "outputs": [],
   "source": []
  }
 ],
 "metadata": {
  "kernelspec": {
   "display_name": "Python 3",
   "language": "python",
   "name": "python3"
  },
  "language_info": {
   "codemirror_mode": {
    "name": "ipython",
    "version": 3
   },
   "file_extension": ".py",
   "mimetype": "text/x-python",
   "name": "python",
   "nbconvert_exporter": "python",
   "pygments_lexer": "ipython3",
   "version": "3.8.5"
  }
 },
 "nbformat": 4,
 "nbformat_minor": 4
}
