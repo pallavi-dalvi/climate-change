{
 "cells": [
  {
   "cell_type": "code",
   "execution_count": 2,
   "metadata": {},
   "outputs": [],
   "source": [
    "import numpy as np\n",
    "import pandas as pd\n",
    "import matplotlib.pyplot as plt\n",
    "import seaborn as sns\n",
    "\n",
    "# This magic line will allow you to generate plots\n",
    "# within the Jupyter notebook.\n",
    "%matplotlib inline\n",
    "\n",
    "#this adds some extra styling to the graphs we will make\n",
    "sns.set_style(\"whitegrid\")"
   ]
  },
  {
   "cell_type": "code",
   "execution_count": 4,
   "metadata": {},
   "outputs": [],
   "source": [
    "global_temp=pd.read_csv(\"GlobalLandTemperatures_GlobalTemperatures.csv\",sep=',')\n"
   ]
  },
  {
   "cell_type": "code",
   "execution_count": 5,
   "metadata": {},
   "outputs": [
    {
     "data": {
      "text/plain": [
       "Index(['dt', 'LandAverageTemperature', 'LandAverageTemperatureUncertainty',\n",
       "       'LandMaxTemperature', 'LandMaxTemperatureUncertainty',\n",
       "       'LandMinTemperature', 'LandMinTemperatureUncertainty',\n",
       "       'LandAndOceanAverageTemperature',\n",
       "       'LandAndOceanAverageTemperatureUncertainty'],\n",
       "      dtype='object')"
      ]
     },
     "execution_count": 5,
     "metadata": {},
     "output_type": "execute_result"
    }
   ],
   "source": [
    "global_temp.columns"
   ]
  },
  {
   "cell_type": "code",
   "execution_count": 11,
   "metadata": {},
   "outputs": [],
   "source": [
    "global_temp['dt'] = pd.to_datetime(global_temp['dt'])"
   ]
  },
  {
   "cell_type": "code",
   "execution_count": 32,
   "metadata": {},
   "outputs": [],
   "source": [
    "global_temp['year'] = global_temp['dt'].dt.year\n",
    "global_temp['month'] = global_temp['dt'].dt.day\n",
    "global_temp['day'] = global_temp['dt'].dt.month"
   ]
  },
  {
   "cell_type": "code",
   "execution_count": 34,
   "metadata": {},
   "outputs": [
    {
     "data": {
      "text/plain": [
       "dt                                           0\n",
       "LandAverageTemperature                       0\n",
       "LandAverageTemperatureUncertainty            0\n",
       "LandMaxTemperature                           0\n",
       "LandMaxTemperatureUncertainty                0\n",
       "LandMinTemperature                           0\n",
       "LandMinTemperatureUncertainty                0\n",
       "LandAndOceanAverageTemperature               0\n",
       "LandAndOceanAverageTemperatureUncertainty    0\n",
       "year                                         0\n",
       "month                                        0\n",
       "day                                          0\n",
       "YearMonth                                    0\n",
       "dtype: int64"
      ]
     },
     "execution_count": 34,
     "metadata": {},
     "output_type": "execute_result"
    }
   ],
   "source": [
    "global_temp.isna().sum()"
   ]
  },
  {
   "cell_type": "code",
   "execution_count": 35,
   "metadata": {},
   "outputs": [],
   "source": [
    "# New column added to data frame - combination of Year and Month\n",
    "global_temp['YearMonth']=global_temp['year'].astype(str)+'-'+global_temp['month'].astype(str)"
   ]
  },
  {
   "cell_type": "code",
   "execution_count": 37,
   "metadata": {},
   "outputs": [
    {
     "data": {
      "text/plain": [
       "dt                                           datetime64[ns]\n",
       "LandAverageTemperature                              float64\n",
       "LandAverageTemperatureUncertainty                   float64\n",
       "LandMaxTemperature                                  float64\n",
       "LandMaxTemperatureUncertainty                       float64\n",
       "LandMinTemperature                                  float64\n",
       "LandMinTemperatureUncertainty                       float64\n",
       "LandAndOceanAverageTemperature                      float64\n",
       "LandAndOceanAverageTemperatureUncertainty           float64\n",
       "year                                                  int64\n",
       "month                                                 int64\n",
       "day                                                   int64\n",
       "YearMonth                                            object\n",
       "dtype: object"
      ]
     },
     "execution_count": 37,
     "metadata": {},
     "output_type": "execute_result"
    }
   ],
   "source": [
    "global_temp.dtypes"
   ]
  },
  {
   "cell_type": "code",
   "execution_count": 38,
   "metadata": {},
   "outputs": [],
   "source": [
    "global_temp.drop(global_temp[global_temp['year']<1901].index, inplace=True)"
   ]
  },
  {
   "cell_type": "code",
   "execution_count": 39,
   "metadata": {},
   "outputs": [],
   "source": [
    "#What has been the average temperature recorded in each month? \n",
    "\n",
    "avg_per_month=global_temp[['LandAverageTemperature','month']]\\\n",
    ".groupby(['month'],as_index=False).mean()\n",
    "avg_per_month.columns=['month','AverageTempPerMonth']"
   ]
  },
  {
   "cell_type": "code",
   "execution_count": 40,
   "metadata": {},
   "outputs": [
    {
     "data": {
      "text/html": [
       "<div>\n",
       "<style scoped>\n",
       "    .dataframe tbody tr th:only-of-type {\n",
       "        vertical-align: middle;\n",
       "    }\n",
       "\n",
       "    .dataframe tbody tr th {\n",
       "        vertical-align: top;\n",
       "    }\n",
       "\n",
       "    .dataframe thead th {\n",
       "        text-align: right;\n",
       "    }\n",
       "</style>\n",
       "<table border=\"1\" class=\"dataframe\">\n",
       "  <thead>\n",
       "    <tr style=\"text-align: right;\">\n",
       "      <th></th>\n",
       "      <th>month</th>\n",
       "      <th>AverageTempPerMonth</th>\n",
       "    </tr>\n",
       "  </thead>\n",
       "  <tbody>\n",
       "    <tr>\n",
       "      <th>0</th>\n",
       "      <td>1</td>\n",
       "      <td>2.826809</td>\n",
       "    </tr>\n",
       "    <tr>\n",
       "      <th>1</th>\n",
       "      <td>2</td>\n",
       "      <td>3.332704</td>\n",
       "    </tr>\n",
       "    <tr>\n",
       "      <th>2</th>\n",
       "      <td>3</td>\n",
       "      <td>5.394835</td>\n",
       "    </tr>\n",
       "    <tr>\n",
       "      <th>3</th>\n",
       "      <td>4</td>\n",
       "      <td>8.539487</td>\n",
       "    </tr>\n",
       "    <tr>\n",
       "      <th>4</th>\n",
       "      <td>5</td>\n",
       "      <td>11.394904</td>\n",
       "    </tr>\n",
       "    <tr>\n",
       "      <th>5</th>\n",
       "      <td>6</td>\n",
       "      <td>13.542200</td>\n",
       "    </tr>\n",
       "    <tr>\n",
       "      <th>6</th>\n",
       "      <td>7</td>\n",
       "      <td>14.451470</td>\n",
       "    </tr>\n",
       "    <tr>\n",
       "      <th>7</th>\n",
       "      <td>8</td>\n",
       "      <td>13.959730</td>\n",
       "    </tr>\n",
       "    <tr>\n",
       "      <th>8</th>\n",
       "      <td>9</td>\n",
       "      <td>12.168574</td>\n",
       "    </tr>\n",
       "    <tr>\n",
       "      <th>9</th>\n",
       "      <td>10</td>\n",
       "      <td>9.525870</td>\n",
       "    </tr>\n",
       "    <tr>\n",
       "      <th>10</th>\n",
       "      <td>11</td>\n",
       "      <td>6.226809</td>\n",
       "    </tr>\n",
       "    <tr>\n",
       "      <th>11</th>\n",
       "      <td>12</td>\n",
       "      <td>3.813278</td>\n",
       "    </tr>\n",
       "  </tbody>\n",
       "</table>\n",
       "</div>"
      ],
      "text/plain": [
       "    month  AverageTempPerMonth\n",
       "0       1             2.826809\n",
       "1       2             3.332704\n",
       "2       3             5.394835\n",
       "3       4             8.539487\n",
       "4       5            11.394904\n",
       "5       6            13.542200\n",
       "6       7            14.451470\n",
       "7       8            13.959730\n",
       "8       9            12.168574\n",
       "9      10             9.525870\n",
       "10     11             6.226809\n",
       "11     12             3.813278"
      ]
     },
     "execution_count": 40,
     "metadata": {},
     "output_type": "execute_result"
    }
   ],
   "source": [
    "avg_per_month"
   ]
  },
  {
   "cell_type": "code",
   "execution_count": 42,
   "metadata": {},
   "outputs": [
    {
     "data": {
      "text/plain": [
       "<AxesSubplot:xlabel='month', ylabel='AverageTempPerMonth'>"
      ]
     },
     "execution_count": 42,
     "metadata": {},
     "output_type": "execute_result"
    },
    {
     "data": {
      "image/png": "[encoded data removed]",
      "text/plain": [
       "<Figure size 432x288 with 1 Axes>"
      ]
     },
     "metadata": {},
     "output_type": "display_data"
    }
   ],
   "source": [
    "sns.barplot(x='month',y='AverageTempPerMonth',data=avg_per_month,color='c')"
   ]
  },
  {
   "cell_type": "code",
   "execution_count": 25,
   "metadata": {},
   "outputs": [],
   "source": [
    "#  Create a DataFrame of how much hotter each month is than the average across all time. \n",
    "#i.e. How much hotter is January than the average day (from the first dot point)? \n",
    "#How much hotter is February than the average day (from the first dot point)? (etc. for each month).\n"
   ]
  },
  {
   "cell_type": "code",
   "execution_count": 43,
   "metadata": {},
   "outputs": [],
   "source": [
    "#month_comparison=avg_per_month['Month']+avg_per_month['AverageTempPerMonth']+\n",
    "\n",
    "month_comparison=pd.DataFrame(avg_per_month['AverageTempPerMonth'] -global_temp['LandAverageTemperature'].mean())"
   ]
  },
  {
   "cell_type": "code",
   "execution_count": 44,
   "metadata": {},
   "outputs": [
    {
     "data": {
      "text/plain": [
       "pandas.core.frame.DataFrame"
      ]
     },
     "execution_count": 44,
     "metadata": {},
     "output_type": "execute_result"
    }
   ],
   "source": [
    "type(month_comparison)"
   ]
  },
  {
   "cell_type": "code",
   "execution_count": 45,
   "metadata": {},
   "outputs": [],
   "source": [
    "month_comparison_dataframe=pd.DataFrame(avg_per_month['month'])"
   ]
  },
  {
   "cell_type": "code",
   "execution_count": 46,
   "metadata": {},
   "outputs": [
    {
     "data": {
      "text/plain": [
       "pandas.core.frame.DataFrame"
      ]
     },
     "execution_count": 46,
     "metadata": {},
     "output_type": "execute_result"
    }
   ],
   "source": [
    "type(month_comparison_dataframe)"
   ]
  },
  {
   "cell_type": "code",
   "execution_count": 47,
   "metadata": {},
   "outputs": [],
   "source": [
    "data = [month_comparison_dataframe,month_comparison]\n",
    "\n",
    "headers=[\"Month\",\"How much hotter\"]"
   ]
  },
  {
   "cell_type": "code",
   "execution_count": 52,
   "metadata": {},
   "outputs": [],
   "source": [
    "df3 = pd.concat(data, axis=1)\n",
    "df3.columns=['month','Temp hotter than Avg']"
   ]
  },
  {
   "cell_type": "code",
   "execution_count": 53,
   "metadata": {},
   "outputs": [
    {
     "data": {
      "text/html": [
       "<div>\n",
       "<style scoped>\n",
       "    .dataframe tbody tr th:only-of-type {\n",
       "        vertical-align: middle;\n",
       "    }\n",
       "\n",
       "    .dataframe tbody tr th {\n",
       "        vertical-align: top;\n",
       "    }\n",
       "\n",
       "    .dataframe thead th {\n",
       "        text-align: right;\n",
       "    }\n",
       "</style>\n",
       "<table border=\"1\" class=\"dataframe\">\n",
       "  <thead>\n",
       "    <tr style=\"text-align: right;\">\n",
       "      <th></th>\n",
       "      <th>month</th>\n",
       "      <th>Temp hotter than Avg</th>\n",
       "    </tr>\n",
       "  </thead>\n",
       "  <tbody>\n",
       "    <tr>\n",
       "      <th>0</th>\n",
       "      <td>1</td>\n",
       "      <td>-5.937914</td>\n",
       "    </tr>\n",
       "    <tr>\n",
       "      <th>1</th>\n",
       "      <td>2</td>\n",
       "      <td>-5.432018</td>\n",
       "    </tr>\n",
       "    <tr>\n",
       "      <th>2</th>\n",
       "      <td>3</td>\n",
       "      <td>-3.369888</td>\n",
       "    </tr>\n",
       "    <tr>\n",
       "      <th>3</th>\n",
       "      <td>4</td>\n",
       "      <td>-0.225236</td>\n",
       "    </tr>\n",
       "    <tr>\n",
       "      <th>4</th>\n",
       "      <td>5</td>\n",
       "      <td>2.630182</td>\n",
       "    </tr>\n",
       "    <tr>\n",
       "      <th>5</th>\n",
       "      <td>6</td>\n",
       "      <td>4.777478</td>\n",
       "    </tr>\n",
       "    <tr>\n",
       "      <th>6</th>\n",
       "      <td>7</td>\n",
       "      <td>5.686747</td>\n",
       "    </tr>\n",
       "    <tr>\n",
       "      <th>7</th>\n",
       "      <td>8</td>\n",
       "      <td>5.195008</td>\n",
       "    </tr>\n",
       "    <tr>\n",
       "      <th>8</th>\n",
       "      <td>9</td>\n",
       "      <td>3.403851</td>\n",
       "    </tr>\n",
       "    <tr>\n",
       "      <th>9</th>\n",
       "      <td>10</td>\n",
       "      <td>0.761147</td>\n",
       "    </tr>\n",
       "    <tr>\n",
       "      <th>10</th>\n",
       "      <td>11</td>\n",
       "      <td>-2.537914</td>\n",
       "    </tr>\n",
       "    <tr>\n",
       "      <th>11</th>\n",
       "      <td>12</td>\n",
       "      <td>-4.951444</td>\n",
       "    </tr>\n",
       "  </tbody>\n",
       "</table>\n",
       "</div>"
      ],
      "text/plain": [
       "    month  Temp hotter than Avg\n",
       "0       1             -5.937914\n",
       "1       2             -5.432018\n",
       "2       3             -3.369888\n",
       "3       4             -0.225236\n",
       "4       5              2.630182\n",
       "5       6              4.777478\n",
       "6       7              5.686747\n",
       "7       8              5.195008\n",
       "8       9              3.403851\n",
       "9      10              0.761147\n",
       "10     11             -2.537914\n",
       "11     12             -4.951444"
      ]
     },
     "execution_count": 53,
     "metadata": {},
     "output_type": "execute_result"
    }
   ],
   "source": [
    "df3"
   ]
  },
  {
   "cell_type": "code",
   "execution_count": 54,
   "metadata": {},
   "outputs": [],
   "source": [
    "avg_per_month_final=pd.merge(avg_per_month,df3,how='inner',on='month')"
   ]
  },
  {
   "cell_type": "code",
   "execution_count": 55,
   "metadata": {},
   "outputs": [
    {
     "data": {
      "text/html": [
       "<div>\n",
       "<style scoped>\n",
       "    .dataframe tbody tr th:only-of-type {\n",
       "        vertical-align: middle;\n",
       "    }\n",
       "\n",
       "    .dataframe tbody tr th {\n",
       "        vertical-align: top;\n",
       "    }\n",
       "\n",
       "    .dataframe thead th {\n",
       "        text-align: right;\n",
       "    }\n",
       "</style>\n",
       "<table border=\"1\" class=\"dataframe\">\n",
       "  <thead>\n",
       "    <tr style=\"text-align: right;\">\n",
       "      <th></th>\n",
       "      <th>Month</th>\n",
       "      <th>AverageTempPerMonth</th>\n",
       "      <th>Temp hotter than Avg</th>\n",
       "    </tr>\n",
       "  </thead>\n",
       "  <tbody>\n",
       "    <tr>\n",
       "      <th>0</th>\n",
       "      <td>1</td>\n",
       "      <td>26.013052</td>\n",
       "      <td>4.266538</td>\n",
       "    </tr>\n",
       "    <tr>\n",
       "      <th>1</th>\n",
       "      <td>2</td>\n",
       "      <td>25.840514</td>\n",
       "      <td>4.093999</td>\n",
       "    </tr>\n",
       "    <tr>\n",
       "      <th>2</th>\n",
       "      <td>3</td>\n",
       "      <td>24.812717</td>\n",
       "      <td>3.066203</td>\n",
       "    </tr>\n",
       "    <tr>\n",
       "      <th>3</th>\n",
       "      <td>4</td>\n",
       "      <td>22.516035</td>\n",
       "      <td>0.769520</td>\n",
       "    </tr>\n",
       "    <tr>\n",
       "      <th>4</th>\n",
       "      <td>5</td>\n",
       "      <td>19.532583</td>\n",
       "      <td>-2.213932</td>\n",
       "    </tr>\n",
       "    <tr>\n",
       "      <th>5</th>\n",
       "      <td>6</td>\n",
       "      <td>17.010163</td>\n",
       "      <td>-4.736352</td>\n",
       "    </tr>\n",
       "    <tr>\n",
       "      <th>6</th>\n",
       "      <td>7</td>\n",
       "      <td>16.422014</td>\n",
       "      <td>-5.324501</td>\n",
       "    </tr>\n",
       "    <tr>\n",
       "      <th>7</th>\n",
       "      <td>8</td>\n",
       "      <td>17.892974</td>\n",
       "      <td>-3.853540</td>\n",
       "    </tr>\n",
       "    <tr>\n",
       "      <th>8</th>\n",
       "      <td>9</td>\n",
       "      <td>20.085380</td>\n",
       "      <td>-1.661135</td>\n",
       "    </tr>\n",
       "    <tr>\n",
       "      <th>9</th>\n",
       "      <td>10</td>\n",
       "      <td>22.175921</td>\n",
       "      <td>0.429407</td>\n",
       "    </tr>\n",
       "    <tr>\n",
       "      <th>10</th>\n",
       "      <td>11</td>\n",
       "      <td>23.687394</td>\n",
       "      <td>1.940879</td>\n",
       "    </tr>\n",
       "    <tr>\n",
       "      <th>11</th>\n",
       "      <td>12</td>\n",
       "      <td>25.250934</td>\n",
       "      <td>3.504419</td>\n",
       "    </tr>\n",
       "  </tbody>\n",
       "</table>\n",
       "</div>"
      ],
      "text/plain": [
       "    Month  AverageTempPerMonth  Temp hotter than Avg\n",
       "0       1            26.013052              4.266538\n",
       "1       2            25.840514              4.093999\n",
       "2       3            24.812717              3.066203\n",
       "3       4            22.516035              0.769520\n",
       "4       5            19.532583             -2.213932\n",
       "5       6            17.010163             -4.736352\n",
       "6       7            16.422014             -5.324501\n",
       "7       8            17.892974             -3.853540\n",
       "8       9            20.085380             -1.661135\n",
       "9      10            22.175921              0.429407\n",
       "10     11            23.687394              1.940879\n",
       "11     12            25.250934              3.504419"
      ]
     },
     "execution_count": 55,
     "metadata": {},
     "output_type": "execute_result"
    }
   ],
   "source": [
    "avg_per_month_final"
   ]
  },
  {
   "cell_type": "code",
   "execution_count": 68,
   "metadata": {},
   "outputs": [],
   "source": [
    "# Question 2 - Seasonality correction (lookups)\n",
    "# show the temperature of each day, a lookup of the monthly adjustment and the temperature of each day \n",
    "# with the monthly adjustment removed.\n"
   ]
  },
  {
   "cell_type": "code",
   "execution_count": 56,
   "metadata": {},
   "outputs": [],
   "source": [
    "global_seasonality_correction=pd.merge(global_temp,avg_per_month_final,how='inner',on='month')"
   ]
  },
  {
   "cell_type": "code",
   "execution_count": 57,
   "metadata": {},
   "outputs": [
    {
     "data": {
      "text/html": [
       "<div>\n",
       "<style scoped>\n",
       "    .dataframe tbody tr th:only-of-type {\n",
       "        vertical-align: middle;\n",
       "    }\n",
       "\n",
       "    .dataframe tbody tr th {\n",
       "        vertical-align: top;\n",
       "    }\n",
       "\n",
       "    .dataframe thead th {\n",
       "        text-align: right;\n",
       "    }\n",
       "</style>\n",
       "<table border=\"1\" class=\"dataframe\">\n",
       "  <thead>\n",
       "    <tr style=\"text-align: right;\">\n",
       "      <th></th>\n",
       "      <th>dt</th>\n",
       "      <th>LandAverageTemperature</th>\n",
       "      <th>LandAverageTemperatureUncertainty</th>\n",
       "      <th>LandMaxTemperature</th>\n",
       "      <th>LandMaxTemperatureUncertainty</th>\n",
       "      <th>LandMinTemperature</th>\n",
       "      <th>LandMinTemperatureUncertainty</th>\n",
       "      <th>LandAndOceanAverageTemperature</th>\n",
       "      <th>LandAndOceanAverageTemperatureUncertainty</th>\n",
       "      <th>year</th>\n",
       "      <th>month</th>\n",
       "      <th>day</th>\n",
       "      <th>YearMonth</th>\n",
       "      <th>AverageTempPerMonth</th>\n",
       "      <th>Temp hotter than Avg</th>\n",
       "    </tr>\n",
       "  </thead>\n",
       "  <tbody>\n",
       "    <tr>\n",
       "      <th>0</th>\n",
       "      <td>1901-01-01</td>\n",
       "      <td>2.191</td>\n",
       "      <td>0.291</td>\n",
       "      <td>7.996</td>\n",
       "      <td>0.604</td>\n",
       "      <td>-3.491</td>\n",
       "      <td>0.490</td>\n",
       "      <td>13.290</td>\n",
       "      <td>0.141</td>\n",
       "      <td>1901</td>\n",
       "      <td>1</td>\n",
       "      <td>1</td>\n",
       "      <td>1901-1</td>\n",
       "      <td>2.826809</td>\n",
       "      <td>-5.937914</td>\n",
       "    </tr>\n",
       "    <tr>\n",
       "      <th>1</th>\n",
       "      <td>1902-01-01</td>\n",
       "      <td>2.684</td>\n",
       "      <td>0.256</td>\n",
       "      <td>8.797</td>\n",
       "      <td>0.569</td>\n",
       "      <td>-3.031</td>\n",
       "      <td>0.369</td>\n",
       "      <td>13.302</td>\n",
       "      <td>0.130</td>\n",
       "      <td>1902</td>\n",
       "      <td>1</td>\n",
       "      <td>1</td>\n",
       "      <td>1902-1</td>\n",
       "      <td>2.826809</td>\n",
       "      <td>-5.937914</td>\n",
       "    </tr>\n",
       "    <tr>\n",
       "      <th>2</th>\n",
       "      <td>1903-01-01</td>\n",
       "      <td>2.514</td>\n",
       "      <td>0.224</td>\n",
       "      <td>8.415</td>\n",
       "      <td>0.442</td>\n",
       "      <td>-3.187</td>\n",
       "      <td>0.403</td>\n",
       "      <td>13.275</td>\n",
       "      <td>0.128</td>\n",
       "      <td>1903</td>\n",
       "      <td>1</td>\n",
       "      <td>1</td>\n",
       "      <td>1903-1</td>\n",
       "      <td>2.826809</td>\n",
       "      <td>-5.937914</td>\n",
       "    </tr>\n",
       "    <tr>\n",
       "      <th>3</th>\n",
       "      <td>1904-01-01</td>\n",
       "      <td>1.637</td>\n",
       "      <td>0.387</td>\n",
       "      <td>7.082</td>\n",
       "      <td>0.516</td>\n",
       "      <td>-3.860</td>\n",
       "      <td>0.398</td>\n",
       "      <td>12.957</td>\n",
       "      <td>0.152</td>\n",
       "      <td>1904</td>\n",
       "      <td>1</td>\n",
       "      <td>1</td>\n",
       "      <td>1904-1</td>\n",
       "      <td>2.826809</td>\n",
       "      <td>-5.937914</td>\n",
       "    </tr>\n",
       "    <tr>\n",
       "      <th>4</th>\n",
       "      <td>1905-01-01</td>\n",
       "      <td>2.254</td>\n",
       "      <td>0.345</td>\n",
       "      <td>8.017</td>\n",
       "      <td>0.478</td>\n",
       "      <td>-3.324</td>\n",
       "      <td>0.373</td>\n",
       "      <td>13.205</td>\n",
       "      <td>0.140</td>\n",
       "      <td>1905</td>\n",
       "      <td>1</td>\n",
       "      <td>1</td>\n",
       "      <td>1905-1</td>\n",
       "      <td>2.826809</td>\n",
       "      <td>-5.937914</td>\n",
       "    </tr>\n",
       "    <tr>\n",
       "      <th>...</th>\n",
       "      <td>...</td>\n",
       "      <td>...</td>\n",
       "      <td>...</td>\n",
       "      <td>...</td>\n",
       "      <td>...</td>\n",
       "      <td>...</td>\n",
       "      <td>...</td>\n",
       "      <td>...</td>\n",
       "      <td>...</td>\n",
       "      <td>...</td>\n",
       "      <td>...</td>\n",
       "      <td>...</td>\n",
       "      <td>...</td>\n",
       "      <td>...</td>\n",
       "      <td>...</td>\n",
       "    </tr>\n",
       "    <tr>\n",
       "      <th>1375</th>\n",
       "      <td>2011-01-12</td>\n",
       "      <td>4.655</td>\n",
       "      <td>0.106</td>\n",
       "      <td>10.098</td>\n",
       "      <td>0.183</td>\n",
       "      <td>-0.641</td>\n",
       "      <td>0.133</td>\n",
       "      <td>14.198</td>\n",
       "      <td>0.063</td>\n",
       "      <td>2011</td>\n",
       "      <td>12</td>\n",
       "      <td>1</td>\n",
       "      <td>2011-12</td>\n",
       "      <td>3.813278</td>\n",
       "      <td>-4.951444</td>\n",
       "    </tr>\n",
       "    <tr>\n",
       "      <th>1376</th>\n",
       "      <td>2012-01-12</td>\n",
       "      <td>4.102</td>\n",
       "      <td>0.090</td>\n",
       "      <td>9.498</td>\n",
       "      <td>0.149</td>\n",
       "      <td>-1.162</td>\n",
       "      <td>0.096</td>\n",
       "      <td>14.138</td>\n",
       "      <td>0.064</td>\n",
       "      <td>2012</td>\n",
       "      <td>12</td>\n",
       "      <td>1</td>\n",
       "      <td>2012-12</td>\n",
       "      <td>3.813278</td>\n",
       "      <td>-4.951444</td>\n",
       "    </tr>\n",
       "    <tr>\n",
       "      <th>1377</th>\n",
       "      <td>2013-01-12</td>\n",
       "      <td>4.724</td>\n",
       "      <td>0.085</td>\n",
       "      <td>10.083</td>\n",
       "      <td>0.129</td>\n",
       "      <td>-0.548</td>\n",
       "      <td>0.105</td>\n",
       "      <td>14.339</td>\n",
       "      <td>0.065</td>\n",
       "      <td>2013</td>\n",
       "      <td>12</td>\n",
       "      <td>1</td>\n",
       "      <td>2013-12</td>\n",
       "      <td>3.813278</td>\n",
       "      <td>-4.951444</td>\n",
       "    </tr>\n",
       "    <tr>\n",
       "      <th>1378</th>\n",
       "      <td>2014-01-12</td>\n",
       "      <td>4.850</td>\n",
       "      <td>0.090</td>\n",
       "      <td>10.190</td>\n",
       "      <td>0.148</td>\n",
       "      <td>-0.331</td>\n",
       "      <td>0.123</td>\n",
       "      <td>14.410</td>\n",
       "      <td>0.062</td>\n",
       "      <td>2014</td>\n",
       "      <td>12</td>\n",
       "      <td>1</td>\n",
       "      <td>2014-12</td>\n",
       "      <td>3.813278</td>\n",
       "      <td>-4.951444</td>\n",
       "    </tr>\n",
       "    <tr>\n",
       "      <th>1379</th>\n",
       "      <td>2015-01-12</td>\n",
       "      <td>5.518</td>\n",
       "      <td>0.100</td>\n",
       "      <td>10.725</td>\n",
       "      <td>0.154</td>\n",
       "      <td>0.287</td>\n",
       "      <td>0.099</td>\n",
       "      <td>14.774</td>\n",
       "      <td>0.062</td>\n",
       "      <td>2015</td>\n",
       "      <td>12</td>\n",
       "      <td>1</td>\n",
       "      <td>2015-12</td>\n",
       "      <td>3.813278</td>\n",
       "      <td>-4.951444</td>\n",
       "    </tr>\n",
       "  </tbody>\n",
       "</table>\n",
       "<p>1380 rows × 15 columns</p>\n",
       "</div>"
      ],
      "text/plain": [
       "             dt  LandAverageTemperature  LandAverageTemperatureUncertainty  \\\n",
       "0    1901-01-01                   2.191                              0.291   \n",
       "1    1902-01-01                   2.684                              0.256   \n",
       "2    1903-01-01                   2.514                              0.224   \n",
       "3    1904-01-01                   1.637                              0.387   \n",
       "4    1905-01-01                   2.254                              0.345   \n",
       "...         ...                     ...                                ...   \n",
       "1375 2011-01-12                   4.655                              0.106   \n",
       "1376 2012-01-12                   4.102                              0.090   \n",
       "1377 2013-01-12                   4.724                              0.085   \n",
       "1378 2014-01-12                   4.850                              0.090   \n",
       "1379 2015-01-12                   5.518                              0.100   \n",
       "\n",
       "      LandMaxTemperature  LandMaxTemperatureUncertainty  LandMinTemperature  \\\n",
       "0                  7.996                          0.604              -3.491   \n",
       "1                  8.797                          0.569              -3.031   \n",
       "2                  8.415                          0.442              -3.187   \n",
       "3                  7.082                          0.516              -3.860   \n",
       "4                  8.017                          0.478              -3.324   \n",
       "...                  ...                            ...                 ...   \n",
       "1375              10.098                          0.183              -0.641   \n",
       "1376               9.498                          0.149              -1.162   \n",
       "1377              10.083                          0.129              -0.548   \n",
       "1378              10.190                          0.148              -0.331   \n",
       "1379              10.725                          0.154               0.287   \n",
       "\n",
       "      LandMinTemperatureUncertainty  LandAndOceanAverageTemperature  \\\n",
       "0                             0.490                          13.290   \n",
       "1                             0.369                          13.302   \n",
       "2                             0.403                          13.275   \n",
       "3                             0.398                          12.957   \n",
       "4                             0.373                          13.205   \n",
       "...                             ...                             ...   \n",
       "1375                          0.133                          14.198   \n",
       "1376                          0.096                          14.138   \n",
       "1377                          0.105                          14.339   \n",
       "1378                          0.123                          14.410   \n",
       "1379                          0.099                          14.774   \n",
       "\n",
       "      LandAndOceanAverageTemperatureUncertainty  year  month  day YearMonth  \\\n",
       "0                                         0.141  1901      1    1    1901-1   \n",
       "1                                         0.130  1902      1    1    1902-1   \n",
       "2                                         0.128  1903      1    1    1903-1   \n",
       "3                                         0.152  1904      1    1    1904-1   \n",
       "4                                         0.140  1905      1    1    1905-1   \n",
       "...                                         ...   ...    ...  ...       ...   \n",
       "1375                                      0.063  2011     12    1   2011-12   \n",
       "1376                                      0.064  2012     12    1   2012-12   \n",
       "1377                                      0.065  2013     12    1   2013-12   \n",
       "1378                                      0.062  2014     12    1   2014-12   \n",
       "1379                                      0.062  2015     12    1   2015-12   \n",
       "\n",
       "      AverageTempPerMonth  Temp hotter than Avg  \n",
       "0                2.826809             -5.937914  \n",
       "1                2.826809             -5.937914  \n",
       "2                2.826809             -5.937914  \n",
       "3                2.826809             -5.937914  \n",
       "4                2.826809             -5.937914  \n",
       "...                   ...                   ...  \n",
       "1375             3.813278             -4.951444  \n",
       "1376             3.813278             -4.951444  \n",
       "1377             3.813278             -4.951444  \n",
       "1378             3.813278             -4.951444  \n",
       "1379             3.813278             -4.951444  \n",
       "\n",
       "[1380 rows x 15 columns]"
      ]
     },
     "execution_count": 57,
     "metadata": {},
     "output_type": "execute_result"
    }
   ],
   "source": [
    "global_seasonality_correction"
   ]
  },
  {
   "cell_type": "code",
   "execution_count": 58,
   "metadata": {},
   "outputs": [],
   "source": [
    "global_seasonality_correction[\"Adjusted temperature\"]=global_seasonality_correction['LandAverageTemperature']-\\\n",
    "                                                        global_seasonality_correction['Temp hotter than Avg']"
   ]
  },
  {
   "cell_type": "code",
   "execution_count": 60,
   "metadata": {},
   "outputs": [
    {
     "data": {
      "text/html": [
       "<div>\n",
       "<style scoped>\n",
       "    .dataframe tbody tr th:only-of-type {\n",
       "        vertical-align: middle;\n",
       "    }\n",
       "\n",
       "    .dataframe tbody tr th {\n",
       "        vertical-align: top;\n",
       "    }\n",
       "\n",
       "    .dataframe thead th {\n",
       "        text-align: right;\n",
       "    }\n",
       "</style>\n",
       "<table border=\"1\" class=\"dataframe\">\n",
       "  <thead>\n",
       "    <tr style=\"text-align: right;\">\n",
       "      <th></th>\n",
       "      <th>LandAverageTemperature</th>\n",
       "      <th>Temp hotter than Avg</th>\n",
       "      <th>Adjusted temperature</th>\n",
       "    </tr>\n",
       "  </thead>\n",
       "  <tbody>\n",
       "    <tr>\n",
       "      <th>0</th>\n",
       "      <td>2.191</td>\n",
       "      <td>-5.937914</td>\n",
       "      <td>8.128914</td>\n",
       "    </tr>\n",
       "    <tr>\n",
       "      <th>1</th>\n",
       "      <td>2.684</td>\n",
       "      <td>-5.937914</td>\n",
       "      <td>8.621914</td>\n",
       "    </tr>\n",
       "    <tr>\n",
       "      <th>2</th>\n",
       "      <td>2.514</td>\n",
       "      <td>-5.937914</td>\n",
       "      <td>8.451914</td>\n",
       "    </tr>\n",
       "    <tr>\n",
       "      <th>3</th>\n",
       "      <td>1.637</td>\n",
       "      <td>-5.937914</td>\n",
       "      <td>7.574914</td>\n",
       "    </tr>\n",
       "    <tr>\n",
       "      <th>4</th>\n",
       "      <td>2.254</td>\n",
       "      <td>-5.937914</td>\n",
       "      <td>8.191914</td>\n",
       "    </tr>\n",
       "    <tr>\n",
       "      <th>...</th>\n",
       "      <td>...</td>\n",
       "      <td>...</td>\n",
       "      <td>...</td>\n",
       "    </tr>\n",
       "    <tr>\n",
       "      <th>1375</th>\n",
       "      <td>4.655</td>\n",
       "      <td>-4.951444</td>\n",
       "      <td>9.606444</td>\n",
       "    </tr>\n",
       "    <tr>\n",
       "      <th>1376</th>\n",
       "      <td>4.102</td>\n",
       "      <td>-4.951444</td>\n",
       "      <td>9.053444</td>\n",
       "    </tr>\n",
       "    <tr>\n",
       "      <th>1377</th>\n",
       "      <td>4.724</td>\n",
       "      <td>-4.951444</td>\n",
       "      <td>9.675444</td>\n",
       "    </tr>\n",
       "    <tr>\n",
       "      <th>1378</th>\n",
       "      <td>4.850</td>\n",
       "      <td>-4.951444</td>\n",
       "      <td>9.801444</td>\n",
       "    </tr>\n",
       "    <tr>\n",
       "      <th>1379</th>\n",
       "      <td>5.518</td>\n",
       "      <td>-4.951444</td>\n",
       "      <td>10.469444</td>\n",
       "    </tr>\n",
       "  </tbody>\n",
       "</table>\n",
       "<p>1380 rows × 3 columns</p>\n",
       "</div>"
      ],
      "text/plain": [
       "      LandAverageTemperature  Temp hotter than Avg  Adjusted temperature\n",
       "0                      2.191             -5.937914              8.128914\n",
       "1                      2.684             -5.937914              8.621914\n",
       "2                      2.514             -5.937914              8.451914\n",
       "3                      1.637             -5.937914              7.574914\n",
       "4                      2.254             -5.937914              8.191914\n",
       "...                      ...                   ...                   ...\n",
       "1375                   4.655             -4.951444              9.606444\n",
       "1376                   4.102             -4.951444              9.053444\n",
       "1377                   4.724             -4.951444              9.675444\n",
       "1378                   4.850             -4.951444              9.801444\n",
       "1379                   5.518             -4.951444             10.469444\n",
       "\n",
       "[1380 rows x 3 columns]"
      ]
     },
     "execution_count": 60,
     "metadata": {},
     "output_type": "execute_result"
    }
   ],
   "source": [
    "global_seasonality_correction[['LandAverageTemperature','Temp hotter than Avg','Adjusted temperature']]"
   ]
  },
  {
   "cell_type": "code",
   "execution_count": 74,
   "metadata": {},
   "outputs": [],
   "source": [
    "# Create a data frame which has years as rows, and where the values are the averages of the adjusted temperatures(column 1)\n",
    "# and the averages of the original temperatures  (column 2)"
   ]
  },
  {
   "cell_type": "code",
   "execution_count": 61,
   "metadata": {},
   "outputs": [],
   "source": [
    "averages_of_adjusted_temperatures=global_seasonality_correction[['year','Adjusted temperature']].\\\n",
    "                                    groupby('year',as_index=False).mean()"
   ]
  },
  {
   "cell_type": "code",
   "execution_count": 62,
   "metadata": {},
   "outputs": [],
   "source": [
    "averages_of_adjusted_temperatures.columns=['year','Averages of adjusted temperatures']"
   ]
  },
  {
   "cell_type": "code",
   "execution_count": 65,
   "metadata": {},
   "outputs": [],
   "source": [
    "averages_of_original_temperatures=global_seasonality_correction[['year','LandAverageTemperature']].\\\n",
    "                                    groupby('year',as_index=False).mean()"
   ]
  },
  {
   "cell_type": "code",
   "execution_count": 79,
   "metadata": {},
   "outputs": [],
   "source": [
    "averages_of_original_temperatures.columns=['year','Averages of original temperatures']"
   ]
  },
  {
   "cell_type": "code",
   "execution_count": 66,
   "metadata": {},
   "outputs": [],
   "source": [
    "global_seasonality_correction=pd.merge(averages_of_adjusted_temperatures,averages_of_original_temperatures,on='year',how='inner')"
   ]
  },
  {
   "cell_type": "code",
   "execution_count": 68,
   "metadata": {},
   "outputs": [
    {
     "data": {
      "text/html": [
       "<div>\n",
       "<style scoped>\n",
       "    .dataframe tbody tr th:only-of-type {\n",
       "        vertical-align: middle;\n",
       "    }\n",
       "\n",
       "    .dataframe tbody tr th {\n",
       "        vertical-align: top;\n",
       "    }\n",
       "\n",
       "    .dataframe thead th {\n",
       "        text-align: right;\n",
       "    }\n",
       "</style>\n",
       "<table border=\"1\" class=\"dataframe\">\n",
       "  <thead>\n",
       "    <tr style=\"text-align: right;\">\n",
       "      <th></th>\n",
       "      <th>year</th>\n",
       "      <th>Averages of adjusted temperatures</th>\n",
       "      <th>LandAverageTemperature</th>\n",
       "    </tr>\n",
       "  </thead>\n",
       "  <tbody>\n",
       "    <tr>\n",
       "      <th>0</th>\n",
       "      <td>1901</td>\n",
       "      <td>8.541917</td>\n",
       "      <td>8.541917</td>\n",
       "    </tr>\n",
       "    <tr>\n",
       "      <th>1</th>\n",
       "      <td>1902</td>\n",
       "      <td>8.304417</td>\n",
       "      <td>8.304417</td>\n",
       "    </tr>\n",
       "    <tr>\n",
       "      <th>2</th>\n",
       "      <td>1903</td>\n",
       "      <td>8.220167</td>\n",
       "      <td>8.220167</td>\n",
       "    </tr>\n",
       "    <tr>\n",
       "      <th>3</th>\n",
       "      <td>1904</td>\n",
       "      <td>8.090917</td>\n",
       "      <td>8.090917</td>\n",
       "    </tr>\n",
       "    <tr>\n",
       "      <th>4</th>\n",
       "      <td>1905</td>\n",
       "      <td>8.225167</td>\n",
       "      <td>8.225167</td>\n",
       "    </tr>\n",
       "    <tr>\n",
       "      <th>...</th>\n",
       "      <td>...</td>\n",
       "      <td>...</td>\n",
       "      <td>...</td>\n",
       "    </tr>\n",
       "    <tr>\n",
       "      <th>110</th>\n",
       "      <td>2011</td>\n",
       "      <td>9.516000</td>\n",
       "      <td>9.516000</td>\n",
       "    </tr>\n",
       "    <tr>\n",
       "      <th>111</th>\n",
       "      <td>2012</td>\n",
       "      <td>9.507333</td>\n",
       "      <td>9.507333</td>\n",
       "    </tr>\n",
       "    <tr>\n",
       "      <th>112</th>\n",
       "      <td>2013</td>\n",
       "      <td>9.606500</td>\n",
       "      <td>9.606500</td>\n",
       "    </tr>\n",
       "    <tr>\n",
       "      <th>113</th>\n",
       "      <td>2014</td>\n",
       "      <td>9.570667</td>\n",
       "      <td>9.570667</td>\n",
       "    </tr>\n",
       "    <tr>\n",
       "      <th>114</th>\n",
       "      <td>2015</td>\n",
       "      <td>9.831000</td>\n",
       "      <td>9.831000</td>\n",
       "    </tr>\n",
       "  </tbody>\n",
       "</table>\n",
       "<p>115 rows × 3 columns</p>\n",
       "</div>"
      ],
      "text/plain": [
       "     year  Averages of adjusted temperatures  LandAverageTemperature\n",
       "0    1901                           8.541917                8.541917\n",
       "1    1902                           8.304417                8.304417\n",
       "2    1903                           8.220167                8.220167\n",
       "3    1904                           8.090917                8.090917\n",
       "4    1905                           8.225167                8.225167\n",
       "..    ...                                ...                     ...\n",
       "110  2011                           9.516000                9.516000\n",
       "111  2012                           9.507333                9.507333\n",
       "112  2013                           9.606500                9.606500\n",
       "113  2014                           9.570667                9.570667\n",
       "114  2015                           9.831000                9.831000\n",
       "\n",
       "[115 rows x 3 columns]"
      ]
     },
     "execution_count": 68,
     "metadata": {},
     "output_type": "execute_result"
    }
   ],
   "source": [
    "global_seasonality_correction"
   ]
  },
  {
   "cell_type": "code",
   "execution_count": 70,
   "metadata": {},
   "outputs": [
    {
     "data": {
      "text/plain": [
       "<AxesSubplot:xlabel='year', ylabel='Averages of adjusted temperatures'>"
      ]
     },
     "execution_count": 70,
     "metadata": {},
     "output_type": "execute_result"
    },
    {
     "data": {
      "image/png": "[encoded data removed]",
      "text/plain": [
       "<Figure size 432x288 with 1 Axes>"
      ]
     },
     "metadata": {},
     "output_type": "display_data"
    }
   ],
   "source": [
    "sns.lineplot(data=global_seasonality_correction,x='year',y='Averages of adjusted temperatures')"
   ]
  },
  {
   "cell_type": "code",
   "execution_count": 72,
   "metadata": {},
   "outputs": [
    {
     "data": {
      "text/plain": [
       "<AxesSubplot:xlabel='year', ylabel='LandAverageTemperature'>"
      ]
     },
     "execution_count": 72,
     "metadata": {},
     "output_type": "execute_result"
    },
    {
     "data": {
      "image/png": "[encoded data removed]",
      "text/plain": [
       "<Figure size 432x288 with 1 Axes>"
      ]
     },
     "metadata": {},
     "output_type": "display_data"
    }
   ],
   "source": [
    "sns.lineplot(data=global_seasonality_correction,x='year',y='LandAverageTemperature')"
   ]
  },
  {
   "cell_type": "code",
   "execution_count": 75,
   "metadata": {},
   "outputs": [],
   "source": [
    "final=global_temp[['year','month','LandAverageTemperature','LandAverageTemperatureUncertainty',\n",
    "       'LandMaxTemperature', 'LandMaxTemperatureUncertainty',\n",
    "       'LandMinTemperature', 'LandMinTemperatureUncertainty',\n",
    "       'LandAndOceanAverageTemperature',\n",
    "       'LandAndOceanAverageTemperatureUncertainty']]"
   ]
  },
  {
   "cell_type": "code",
   "execution_count": 77,
   "metadata": {},
   "outputs": [],
   "source": [
    "final.to_csv('CleanedGlobal_Temperatures_Monthly.csv', sep=',',index=False)"
   ]
  },
  {
   "cell_type": "code",
   "execution_count": null,
   "metadata": {},
   "outputs": [],
   "source": []
  }
 ],
 "metadata": {
  "kernelspec": {
   "display_name": "Python 3",
   "language": "python",
   "name": "python3"
  },
  "language_info": {
   "codemirror_mode": {
    "name": "ipython",
    "version": 3
   },
   "file_extension": ".py",
   "mimetype": "text/x-python",
   "name": "python",
   "nbconvert_exporter": "python",
   "pygments_lexer": "ipython3",
   "version": "3.8.5"
  }
 },
 "nbformat": 4,
 "nbformat_minor": 4
}
